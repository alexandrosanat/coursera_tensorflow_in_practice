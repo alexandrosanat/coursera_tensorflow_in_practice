{
 "cells": [
  {
   "cell_type": "code",
   "execution_count": 1,
   "metadata": {},
   "outputs": [],
   "source": [
    "import json\n",
    "import tensorflow as tf\n",
    "import matplotlib.pyplot as plt\n",
    "import numpy as np\n",
    "from tensorflow.keras.preprocessing.text import Tokenizer\n",
    "from tensorflow.keras.preprocessing.sequence import pad_sequences"
   ]
  },
  {
   "cell_type": "code",
   "execution_count": 2,
   "metadata": {},
   "outputs": [],
   "source": [
    "data = []\n",
    "with open('Sarcasm_Headlines_Dataset_v2.json') as f:\n",
    "    for line in f:\n",
    "        data.append(json.loads(line))"
   ]
  },
  {
   "cell_type": "code",
   "execution_count": 3,
   "metadata": {},
   "outputs": [
    {
     "data": {
      "text/plain": [
       "{'is_sarcastic': 1,\n",
       " 'headline': 'thirtysomething scientists unveil doomsday clock of hair loss',\n",
       " 'article_link': 'https://www.theonion.com/thirtysomething-scientists-unveil-doomsday-clock-of-hai-1819586205'}"
      ]
     },
     "execution_count": 3,
     "metadata": {},
     "output_type": "execute_result"
    }
   ],
   "source": [
    "data[0]"
   ]
  },
  {
   "cell_type": "code",
   "execution_count": 4,
   "metadata": {},
   "outputs": [],
   "source": [
    "sentences, labels = [], []\n",
    "\n",
    "for item in data:\n",
    "    sentences.append(item[\"headline\"])\n",
    "    labels.append(item[\"is_sarcastic\"])"
   ]
  },
  {
   "cell_type": "markdown",
   "metadata": {},
   "source": [
    "Initialise and fit a tokenizer"
   ]
  },
  {
   "cell_type": "code",
   "execution_count": 5,
   "metadata": {},
   "outputs": [
    {
     "data": {
      "text/plain": [
       "28619"
      ]
     },
     "execution_count": 5,
     "metadata": {},
     "output_type": "execute_result"
    }
   ],
   "source": [
    "len(sentences)"
   ]
  },
  {
   "cell_type": "code",
   "execution_count": 6,
   "metadata": {},
   "outputs": [
    {
     "name": "stdout",
     "output_type": "stream",
     "text": [
      "926\n",
      "hot wheels ranked number one toy for rolling down ramp, knocking over dominoes that send marble down a funnel, dropping onto teeter-totter that yanks on string, causing pulley system to raise wooden block, propelling series of twine rollers that unwind spring, launching tennis ball across room, inching tire down slope until it hits power switch, activating table fan that blows toy ship with nail attached to it across kiddie pool, popping water balloon that fills cup, weighing down lever that forces basketball down track, nudging broomstick on axis to rotate, allowing golf ball to roll into sideways coffee mug, which tumbles down row of hardcover books until handle catches hook attached to lever that causes wooden mallet to slam down on serving spoon, catapulting small ball into cup attached by ribbon to lazy susan, which spins until it pushes d battery down incline plane, tipping over salt shaker to season omelet\n",
      "1\n"
     ]
    }
   ],
   "source": [
    "max_len = 0\n",
    "\n",
    "for i, sentence in enumerate(sentences):\n",
    "    if len(sentence) > max_len:\n",
    "        max_len = len(sentence)\n",
    "        index = i\n",
    "\n",
    "print(max_len)\n",
    "print(sentences[index])\n",
    "print(labels[i])"
   ]
  },
  {
   "cell_type": "markdown",
   "metadata": {},
   "source": [
    "Convert sentences to sequences and pad them"
   ]
  },
  {
   "cell_type": "code",
   "execution_count": 7,
   "metadata": {},
   "outputs": [],
   "source": [
    "vocab_size = 10000\n",
    "embedding_dim = 16\n",
    "max_length = 100\n",
    "trunc_type = \"post\"\n",
    "padding_type = \"post\"\n",
    "oov_tok = \"<OOV>\"\n",
    "training_size = 20000"
   ]
  },
  {
   "cell_type": "code",
   "execution_count": 8,
   "metadata": {},
   "outputs": [],
   "source": [
    "# Split corpus into training and test set\n",
    "training_sentences = sentences[0:training_size]\n",
    "testing_sentences = sentences[training_size:]\n",
    "training_labels = labels[0:training_size]\n",
    "testing_labels = labels[training_size:]"
   ]
  },
  {
   "cell_type": "code",
   "execution_count": 9,
   "metadata": {},
   "outputs": [],
   "source": [
    "# Convert arrays to numpy arrays\n",
    "training_labels_final = np.array(training_labels)\n",
    "testing_labels_final = np.array(testing_labels)"
   ]
  },
  {
   "cell_type": "code",
   "execution_count": 10,
   "metadata": {},
   "outputs": [],
   "source": [
    "tokenizer = Tokenizer(num_words=vocab_size, oov_token=oov_tok)\n",
    "tokenizer.fit_on_texts(training_sentences)\n",
    "\n",
    "word_index = tokenizer.word_index"
   ]
  },
  {
   "cell_type": "code",
   "execution_count": 11,
   "metadata": {},
   "outputs": [],
   "source": [
    "training_sequences = tokenizer.texts_to_sequences(training_sentences)\n",
    "training_padded = pad_sequences(training_sequences, maxlen=max_length,\n",
    "                                padding=padding_type, truncating=trunc_type)\n",
    "\n",
    "testing_sequences = tokenizer.texts_to_sequences(testing_sentences)\n",
    "testing_padded = pad_sequences(testing_sequences, maxlen=max_length,\n",
    "                               padding=padding_type, truncating=trunc_type)"
   ]
  },
  {
   "cell_type": "code",
   "execution_count": 12,
   "metadata": {},
   "outputs": [],
   "source": [
    "# Define a Sequential Neural Network\n",
    "model = tf.keras.Sequential([\n",
    "    tf.keras.layers.Embedding(vocab_size, embedding_dim, input_length=max_length),\n",
    "    tf.keras.layers.GlobalAveragePooling1D(),  # Averages across the vector to flatten it out\n",
    "    tf.keras.layers.Dense(24, activation='relu'),\n",
    "    tf.keras.layers.Dense(1, activation='sigmoid')])"
   ]
  },
  {
   "cell_type": "code",
   "execution_count": 13,
   "metadata": {},
   "outputs": [
    {
     "name": "stdout",
     "output_type": "stream",
     "text": [
      "Model: \"sequential\"\n",
      "_________________________________________________________________\n",
      "Layer (type)                 Output Shape              Param #   \n",
      "=================================================================\n",
      "embedding (Embedding)        (None, 100, 16)           160000    \n",
      "_________________________________________________________________\n",
      "global_average_pooling1d (Gl (None, 16)                0         \n",
      "_________________________________________________________________\n",
      "dense (Dense)                (None, 24)                408       \n",
      "_________________________________________________________________\n",
      "dense_1 (Dense)              (None, 1)                 25        \n",
      "=================================================================\n",
      "Total params: 160,433\n",
      "Trainable params: 160,433\n",
      "Non-trainable params: 0\n",
      "_________________________________________________________________\n"
     ]
    }
   ],
   "source": [
    "model.compile(loss='binary_crossentropy', optimizer='adam', metrics=['accuracy'])\n",
    "model.summary()"
   ]
  },
  {
   "cell_type": "code",
   "execution_count": 14,
   "metadata": {},
   "outputs": [
    {
     "name": "stdout",
     "output_type": "stream",
     "text": [
      "Epoch 1/30\n",
      "625/625 [==============================] - 1s 2ms/step - loss: 0.6620 - accuracy: 0.6108 - val_loss: 0.5489 - val_accuracy: 0.7890\n",
      "Epoch 2/30\n",
      "625/625 [==============================] - 1s 2ms/step - loss: 0.4222 - accuracy: 0.8322 - val_loss: 0.3765 - val_accuracy: 0.8383\n",
      "Epoch 3/30\n",
      "625/625 [==============================] - 1s 2ms/step - loss: 0.3147 - accuracy: 0.8737 - val_loss: 0.3405 - val_accuracy: 0.8547\n",
      "Epoch 4/30\n",
      "625/625 [==============================] - 1s 2ms/step - loss: 0.2662 - accuracy: 0.8964 - val_loss: 0.3307 - val_accuracy: 0.8590\n",
      "Epoch 5/30\n",
      "625/625 [==============================] - 1s 2ms/step - loss: 0.2297 - accuracy: 0.9106 - val_loss: 0.3316 - val_accuracy: 0.8554\n",
      "Epoch 6/30\n",
      "625/625 [==============================] - 1s 2ms/step - loss: 0.2024 - accuracy: 0.9247 - val_loss: 0.3371 - val_accuracy: 0.8574\n",
      "Epoch 7/30\n",
      "625/625 [==============================] - 1s 2ms/step - loss: 0.1801 - accuracy: 0.9324 - val_loss: 0.3478 - val_accuracy: 0.8525\n",
      "Epoch 8/30\n",
      "625/625 [==============================] - 1s 2ms/step - loss: 0.1622 - accuracy: 0.9412 - val_loss: 0.3638 - val_accuracy: 0.8495\n",
      "Epoch 9/30\n",
      "625/625 [==============================] - 1s 2ms/step - loss: 0.1476 - accuracy: 0.9464 - val_loss: 0.3793 - val_accuracy: 0.8499\n",
      "Epoch 10/30\n",
      "625/625 [==============================] - 1s 2ms/step - loss: 0.1332 - accuracy: 0.9530 - val_loss: 0.4001 - val_accuracy: 0.8438\n",
      "Epoch 11/30\n",
      "625/625 [==============================] - 1s 2ms/step - loss: 0.1215 - accuracy: 0.9582 - val_loss: 0.4211 - val_accuracy: 0.8419\n",
      "Epoch 12/30\n",
      "625/625 [==============================] - 1s 2ms/step - loss: 0.1118 - accuracy: 0.9618 - val_loss: 0.4626 - val_accuracy: 0.8323\n",
      "Epoch 13/30\n",
      "625/625 [==============================] - 1s 2ms/step - loss: 0.1023 - accuracy: 0.9657 - val_loss: 0.4732 - val_accuracy: 0.8352\n",
      "Epoch 14/30\n",
      "625/625 [==============================] - 1s 2ms/step - loss: 0.0944 - accuracy: 0.9686 - val_loss: 0.4991 - val_accuracy: 0.8329\n",
      "Epoch 15/30\n",
      "625/625 [==============================] - 1s 2ms/step - loss: 0.0865 - accuracy: 0.9711 - val_loss: 0.5301 - val_accuracy: 0.8299\n",
      "Epoch 16/30\n",
      "625/625 [==============================] - 1s 2ms/step - loss: 0.0791 - accuracy: 0.9747 - val_loss: 0.5611 - val_accuracy: 0.8294\n",
      "Epoch 17/30\n",
      "625/625 [==============================] - ETA: 0s - loss: 0.0723 - accuracy: 0.97 - 1s 2ms/step - loss: 0.0722 - accuracy: 0.9778 - val_loss: 0.5982 - val_accuracy: 0.8252\n",
      "Epoch 18/30\n",
      "625/625 [==============================] - 1s 2ms/step - loss: 0.0667 - accuracy: 0.9786 - val_loss: 0.6591 - val_accuracy: 0.8220\n",
      "Epoch 19/30\n",
      "625/625 [==============================] - 1s 2ms/step - loss: 0.0627 - accuracy: 0.9805 - val_loss: 0.6713 - val_accuracy: 0.8194\n",
      "Epoch 20/30\n",
      "625/625 [==============================] - 1s 2ms/step - loss: 0.0571 - accuracy: 0.9829 - val_loss: 0.7067 - val_accuracy: 0.8233\n",
      "Epoch 21/30\n",
      "625/625 [==============================] - 1s 2ms/step - loss: 0.0525 - accuracy: 0.9843 - val_loss: 0.7411 - val_accuracy: 0.8189\n",
      "Epoch 22/30\n",
      "625/625 [==============================] - 1s 2ms/step - loss: 0.0491 - accuracy: 0.9851 - val_loss: 0.7827 - val_accuracy: 0.8196\n",
      "Epoch 23/30\n",
      "625/625 [==============================] - 1s 2ms/step - loss: 0.0453 - accuracy: 0.9858 - val_loss: 0.8118 - val_accuracy: 0.8160\n",
      "Epoch 24/30\n",
      "625/625 [==============================] - 1s 2ms/step - loss: 0.0439 - accuracy: 0.9868 - val_loss: 0.8528 - val_accuracy: 0.8149\n",
      "Epoch 25/30\n",
      "625/625 [==============================] - 1s 2ms/step - loss: 0.0388 - accuracy: 0.9888 - val_loss: 0.8965 - val_accuracy: 0.8154\n",
      "Epoch 26/30\n",
      "625/625 [==============================] - 1s 2ms/step - loss: 0.0337 - accuracy: 0.9914 - val_loss: 0.9345 - val_accuracy: 0.8132\n",
      "Epoch 27/30\n",
      "625/625 [==============================] - 1s 2ms/step - loss: 0.0340 - accuracy: 0.9900 - val_loss: 0.9724 - val_accuracy: 0.8123\n",
      "Epoch 28/30\n",
      "625/625 [==============================] - 1s 2ms/step - loss: 0.0305 - accuracy: 0.9911 - val_loss: 1.0224 - val_accuracy: 0.8096\n",
      "Epoch 29/30\n",
      "625/625 [==============================] - 1s 2ms/step - loss: 0.0294 - accuracy: 0.9915 - val_loss: 1.0570 - val_accuracy: 0.8090\n",
      "Epoch 30/30\n",
      "625/625 [==============================] - 1s 2ms/step - loss: 0.0261 - accuracy: 0.9926 - val_loss: 1.1023 - val_accuracy: 0.8055\n"
     ]
    }
   ],
   "source": [
    "# Fit model\n",
    "num_epochs = 30\n",
    "\n",
    "history = model.fit(training_padded, training_labels_final, epochs=num_epochs,\n",
    "                    validation_data=(testing_padded, testing_labels_final))"
   ]
  },
  {
   "cell_type": "code",
   "execution_count": 15,
   "metadata": {},
   "outputs": [
    {
     "data": {
      "image/png": "[encoded data removed]",
      "text/plain": [
       "<Figure size 432x288 with 1 Axes>"
      ]
     },
     "metadata": {
      "needs_background": "light"
     },
     "output_type": "display_data"
    },
    {
     "data": {
      "image/png": "[encoded data removed]",
      "text/plain": [
       "<Figure size 432x288 with 1 Axes>"
      ]
     },
     "metadata": {
      "needs_background": "light"
     },
     "output_type": "display_data"
    }
   ],
   "source": [
    "def plot_graphs(history, string):\n",
    "    plt.plot(history.history[string])\n",
    "    plt.plot(history.history[\"val_\"+string])\n",
    "    plt.xlabel(\"Epochs\")\n",
    "    plt.ylabel(string)\n",
    "    plt.legend([string, \"val_\"+string])\n",
    "    plt.show()\n",
    "\n",
    "plot_graphs(history, \"accuracy\")\n",
    "plot_graphs(history, \"loss\")"
   ]
  },
  {
   "cell_type": "code",
   "execution_count": 16,
   "metadata": {},
   "outputs": [],
   "source": [
    "new_sentence = [\"This thing I buit here doesn't even work\"]\n",
    "new_sentence = [\"Yeah, this thing works so well, not\"]\n",
    "\n",
    "test_sentence = tokenizer.texts_to_sequences(new_sentence)\n",
    "padded_sentence = pad_sequences(test_sentence, maxlen=max_length, truncating=trunc_type)"
   ]
  },
  {
   "cell_type": "code",
   "execution_count": 17,
   "metadata": {},
   "outputs": [
    {
     "name": "stdout",
     "output_type": "stream",
     "text": [
      "No sarcasm\n"
     ]
    }
   ],
   "source": [
    "prediction = model.predict(padded_sentence)\n",
    "if prediction > 0.5:\n",
    "    print(\"Sarcasm detected\")\n",
    "else:\n",
    "    print(\"No sarcasm\")"
   ]
  },
  {
   "cell_type": "markdown",
   "metadata": {},
   "source": [
    "Define a bidirectional LSTM"
   ]
  },
  {
   "cell_type": "code",
   "execution_count": 18,
   "metadata": {},
   "outputs": [
    {
     "name": "stdout",
     "output_type": "stream",
     "text": [
      "Model: \"sequential_1\"\n",
      "_________________________________________________________________\n",
      "Layer (type)                 Output Shape              Param #   \n",
      "=================================================================\n",
      "embedding_1 (Embedding)      (None, 100, 16)           160000    \n",
      "_________________________________________________________________\n",
      "bidirectional (Bidirectional (None, 64)                12544     \n",
      "_________________________________________________________________\n",
      "dense_2 (Dense)              (None, 24)                1560      \n",
      "_________________________________________________________________\n",
      "dense_3 (Dense)              (None, 1)                 25        \n",
      "=================================================================\n",
      "Total params: 174,129\n",
      "Trainable params: 174,129\n",
      "Non-trainable params: 0\n",
      "_________________________________________________________________\n"
     ]
    }
   ],
   "source": [
    "model = tf.keras.Sequential([\n",
    "    tf.keras.layers.Embedding(vocab_size, embedding_dim, input_length=max_length),\n",
    "    tf.keras.layers.Bidirectional(tf.keras.layers.LSTM(32)),\n",
    "    tf.keras.layers.Dense(24, activation='relu'),\n",
    "    tf.keras.layers.Dense(1, activation='sigmoid')\n",
    "])\n",
    "model.compile(loss='binary_crossentropy',optimizer='adam',metrics=['accuracy'])\n",
    "model.summary()"
   ]
  },
  {
   "cell_type": "code",
   "execution_count": 19,
   "metadata": {},
   "outputs": [
    {
     "name": "stdout",
     "output_type": "stream",
     "text": [
      "Epoch 1/30\n",
      "625/625 [==============================] - 14s 22ms/step - loss: 0.4188 - accuracy: 0.7933 - val_loss: 0.3272 - val_accuracy: 0.8552\n",
      "Epoch 2/30\n",
      "625/625 [==============================] - 13s 21ms/step - loss: 0.2298 - accuracy: 0.9057 - val_loss: 0.3420 - val_accuracy: 0.8493os\n",
      "Epoch 3/30\n",
      "625/625 [==============================] - 13s 21ms/step - loss: 0.1554 - accuracy: 0.9418 - val_loss: 0.3940 - val_accuracy: 0.8414\n",
      "Epoch 4/30\n",
      "625/625 [==============================] - 15s 23ms/step - loss: 0.1025 - accuracy: 0.9634 - val_loss: 0.4491 - val_accuracy: 0.8453\n",
      "Epoch 5/30\n",
      "625/625 [==============================] - 14s 23ms/step - loss: 0.0644 - accuracy: 0.9790 - val_loss: 0.5388 - val_accuracy: 0.8406\n",
      "Epoch 6/30\n",
      "625/625 [==============================] - 14s 22ms/step - loss: 0.0408 - accuracy: 0.9861 - val_loss: 0.7004 - val_accuracy: 0.8369\n",
      "Epoch 7/30\n",
      "625/625 [==============================] - 13s 21ms/step - loss: 0.0280 - accuracy: 0.9909 - val_loss: 0.7627 - val_accuracy: 0.8308\n",
      "Epoch 8/30\n",
      "625/625 [==============================] - 13s 21ms/step - loss: 0.0185 - accuracy: 0.9945 - val_loss: 0.8899 - val_accuracy: 0.8352\n",
      "Epoch 9/30\n",
      "625/625 [==============================] - 13s 21ms/step - loss: 0.0123 - accuracy: 0.9962 - val_loss: 0.9611 - val_accuracy: 0.8326\n",
      "Epoch 10/30\n",
      "625/625 [==============================] - 13s 21ms/step - loss: 0.0092 - accuracy: 0.9968 - val_loss: 1.0625 - val_accuracy: 0.8315\n",
      "Epoch 11/30\n",
      "625/625 [==============================] - 13s 21ms/step - loss: 0.0126 - accuracy: 0.9958 - val_loss: 1.0305 - val_accuracy: 0.8300\n",
      "Epoch 12/30\n",
      "625/625 [==============================] - 13s 21ms/step - loss: 0.0113 - accuracy: 0.9962 - val_loss: 1.0349 - val_accuracy: 0.8268\n",
      "Epoch 13/30\n",
      "625/625 [==============================] - 13s 21ms/step - loss: 0.0070 - accuracy: 0.9973 - val_loss: 1.1635 - val_accuracy: 0.8306\n",
      "Epoch 14/30\n",
      "625/625 [==============================] - 13s 21ms/step - loss: 0.0049 - accuracy: 0.9987 - val_loss: 1.2047 - val_accuracy: 0.8290\n",
      "Epoch 15/30\n",
      "625/625 [==============================] - 14s 22ms/step - loss: 0.0030 - accuracy: 0.9995 - val_loss: 1.3973 - val_accuracy: 0.8268\n",
      "Epoch 16/30\n",
      "625/625 [==============================] - 14s 22ms/step - loss: 0.0019 - accuracy: 0.9995 - val_loss: 1.5204 - val_accuracy: 0.8152\n",
      "Epoch 17/30\n",
      "625/625 [==============================] - 14s 23ms/step - loss: 0.0013 - accuracy: 0.9995 - val_loss: 1.5468 - val_accuracy: 0.8282\n",
      "Epoch 18/30\n",
      "625/625 [==============================] - 14s 22ms/step - loss: 0.0053 - accuracy: 0.9987 - val_loss: 1.3006 - val_accuracy: 0.8261\n",
      "Epoch 19/30\n",
      "625/625 [==============================] - 14s 22ms/step - loss: 0.0051 - accuracy: 0.9983 - val_loss: 1.3188 - val_accuracy: 0.8233\n",
      "Epoch 20/30\n",
      "625/625 [==============================] - 14s 22ms/step - loss: 0.0051 - accuracy: 0.9985 - val_loss: 1.3189 - val_accuracy: 0.8221\n",
      "Epoch 21/30\n",
      "625/625 [==============================] - 14s 22ms/step - loss: 0.0042 - accuracy: 0.9986 - val_loss: 1.3924 - val_accuracy: 0.8243\n",
      "Epoch 22/30\n",
      "625/625 [==============================] - 14s 22ms/step - loss: 0.0013 - accuracy: 0.9997 - val_loss: 1.5617 - val_accuracy: 0.8228\n",
      "Epoch 23/30\n",
      "625/625 [==============================] - 14s 22ms/step - loss: 0.0031 - accuracy: 0.9988 - val_loss: 1.4640 - val_accuracy: 0.8173\n",
      "Epoch 24/30\n",
      "625/625 [==============================] - 14s 22ms/step - loss: 0.0029 - accuracy: 0.9989 - val_loss: 1.5124 - val_accuracy: 0.8187\n",
      "Epoch 25/30\n",
      "625/625 [==============================] - 13s 22ms/step - loss: 0.0051 - accuracy: 0.9983 - val_loss: 1.4070 - val_accuracy: 0.8238\n",
      "Epoch 26/30\n",
      "625/625 [==============================] - 14s 22ms/step - loss: 0.0013 - accuracy: 0.9997 - val_loss: 1.4048 - val_accuracy: 0.8217\n",
      "Epoch 27/30\n",
      "625/625 [==============================] - 13s 21ms/step - loss: 0.0014 - accuracy: 0.9998 - val_loss: 1.5185 - val_accuracy: 0.8249\n",
      "Epoch 28/30\n",
      "625/625 [==============================] - 14s 22ms/step - loss: 5.5611e-04 - accuracy: 0.9998 - val_loss: 1.6311 - val_accuracy: 0.8206\n",
      "Epoch 29/30\n",
      "625/625 [==============================] - 14s 23ms/step - loss: 8.9947e-04 - accuracy: 0.9998 - val_loss: 1.6105 - val_accuracy: 0.8240\n",
      "Epoch 30/30\n",
      "625/625 [==============================] - 13s 22ms/step - loss: 0.0024 - accuracy: 0.9993 - val_loss: 1.5038 - val_accuracy: 0.8225\n"
     ]
    }
   ],
   "source": [
    "# Fit model\n",
    "num_epochs = 30\n",
    "\n",
    "history = model.fit(training_padded, training_labels_final, epochs=num_epochs,\n",
    "                    validation_data=(testing_padded, testing_labels_final))"
   ]
  },
  {
   "cell_type": "code",
   "execution_count": 20,
   "metadata": {},
   "outputs": [
    {
     "data": {
      "image/png": "[encoded data removed]",
      "text/plain": [
       "<Figure size 432x288 with 1 Axes>"
      ]
     },
     "metadata": {
      "needs_background": "light"
     },
     "output_type": "display_data"
    },
    {
     "data": {
      "image/png": "[encoded data removed]",
      "text/plain": [
       "<Figure size 432x288 with 1 Axes>"
      ]
     },
     "metadata": {
      "needs_background": "light"
     },
     "output_type": "display_data"
    }
   ],
   "source": [
    "def plot_graphs(history, string):\n",
    "    plt.plot(history.history[string])\n",
    "    plt.plot(history.history[\"val_\"+string])\n",
    "    plt.xlabel(\"Epochs\")\n",
    "    plt.ylabel(string)\n",
    "    plt.legend([string, \"val_\"+string])\n",
    "    plt.show()\n",
    "\n",
    "plot_graphs(history, \"accuracy\")\n",
    "plot_graphs(history, \"loss\")"
   ]
  },
  {
   "cell_type": "code",
   "execution_count": 24,
   "metadata": {},
   "outputs": [
    {
     "name": "stdout",
     "output_type": "stream",
     "text": [
      "No sarcasm\n"
     ]
    }
   ],
   "source": [
    "new_sentence = [\"This thing I buit here doesn't even work\"]\n",
    "new_sentence = [\"Yeah, this thing works so well, not\"]\n",
    "\n",
    "test_sentence = tokenizer.texts_to_sequences(new_sentence)\n",
    "padded_sentence = pad_sequences(test_sentence, maxlen=max_length, truncating=trunc_type)\n",
    "\n",
    "prediction = model.predict(padded_sentence)\n",
    "if prediction > 0.5:\n",
    "    print(\"Sarcasm detected\")\n",
    "else:\n",
    "    print(\"No sarcasm\")"
   ]
  },
  {
   "cell_type": "markdown",
   "metadata": {},
   "source": [
    "Another option would be to use a 1D convolutional layer"
   ]
  },
  {
   "cell_type": "code",
   "execution_count": 23,
   "metadata": {},
   "outputs": [],
   "source": [
    "model = tf.keras.Sequential([\n",
    "    tf.keras.layers.Embedding(vocab_size, embedding_dim, input_length=max_length),\n",
    "    tf.keras.layers.Conv1D(128, 5, activation='relu'),\n",
    "    tf.keras.layers.GlobalMaxPooling1D(),\n",
    "    tf.keras.layers.Dense(24, activation='relu'),\n",
    "    tf.keras.layers.Dense(1, activation='sigmoid')\n",
    "])"
   ]
  },
  {
   "cell_type": "code",
   "execution_count": null,
   "metadata": {},
   "outputs": [],
   "source": []
  }
 ],
 "metadata": {
  "kernelspec": {
   "display_name": "Python 3",
   "language": "python",
   "name": "python3"
  },
  "language_info": {
   "codemirror_mode": {
    "name": "ipython",
    "version": 3
   },
   "file_extension": ".py",
   "mimetype": "text/x-python",
   "name": "python",
   "nbconvert_exporter": "python",
   "pygments_lexer": "ipython3",
   "version": "3.8.5"
  }
 },
 "nbformat": 4,
 "nbformat_minor": 4
}
